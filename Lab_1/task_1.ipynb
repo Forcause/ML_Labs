{
 "cells": [
  {
   "cell_type": "markdown",
   "id": "6ae573d0",
   "metadata": {
    "tags": []
   },
   "source": [
    "### Student Performance Data Set  \n",
    "Набор данных предназначен для предсказания успеваемости учащихся старшей школы (10-12 класс) в Португалии. Данные представлены в двух файлах, отражающих успехи в двух разных дисциплинах (Математике и Португальском)\n",
    "Исследование: http://www3.dsi.uminho.pt/pcortez/student.pdf\n",
    "#### Описание показателей\n",
    "school - школа (бинарный: 'GP' - Gabriel Pereira или 'MS' - Mousinho da Silveira) Мода: 'GP'<br>\n",
    "sex - пол учащегося (бинарный: 'F' - female или 'M' - male) Мода: 'F'<br>\n",
    "age - возраст учащегося (абсолютный: от 15 до 22) Среднее: 16<br>\n",
    "address - тип домашнего адреса учащегося (бинарный: 'U' - urban/городской или 'R' - rural/загородный) Мода: 'U'<br>\n",
    "famsize - количество членов семьи (бинарный: 'LE3' - меньше или равно 3, 'GT3' - больше 3) Мода: 'GT3'<br>\n",
    "Pstatus - статус совместного проживания родителей (бинарный: 'T' - living together/живут вместе, 'A' - apart/раздельно) Мода: 'T'<br>\n",
    "Medu - образование матери (номинальный: 0 - нет, 1 - начальное (4 класса), 2 - 5-9 классов, 3 - среднее, 4 - высшее) Мода: 2<br>\n",
    "Fedu - образование отца (номинальный: 0 - нет, 1 - начальное (4 класса), 2 - 5-9 классов, 3 - среднее, 4 - высшее) Мода: 2<br>\n",
    "Mjob - работа матери (номинальный: 'teacher'/учитель, 'health' /сфера здравоохранения, 'services'/государственная служба (например администрация или полиция), 'at_home'/на дому, 'other'/другое) Мода: 'other'<br>\n",
    "Fjob - работа отца (номинальный: 'teacher'/учитель, 'health' /сфера здравоохранения, 'services'/государственная служба (например администрация или полиция), 'at_home'/на дому, 'other'/другое) Мода: 'other'<br>\n",
    "reason - причина выбора этой школы (номинальный: 'home'/близко к дому, 'reputation'/репутация школы, 'course'/предпочтения курса, 'other'/другое) Мода: 'course'<br>\n",
    "guardian - опекун учащегося (номинальный: 'mother', 'father', 'other') Мода: 'mother'<br>\n",
    "traveltime - время от дома до школы (порядковый: 1 - <15 мин., 2 - от 15 до 30 мин., 3 - от 30 мин. до 1 часа,  4 - >1 часа) Мода: 1<br>\n",
    "studytime - время учебы в неделю (порядковый: 1 - <2 часов, 2 - от 2 до 5 часов, 3 - от 5 до 10 часов,  4 - >10 часов) Мода: 2<br>\n",
    "failures - количество прошлых провалов в классе (Математика)(порядковый: n if 1<=n<3, else 4) Мода: 0<br>\n",
    "failures_p - количество прошлых провалов в классе (Португальский)  (порядковый: n if 1<=n<3, else 4) Мода: 0<br>\n",
    "schoolsup - посещает ли дополнительные занятия в школе (бинарный: yes, no) Мода: no<br>\n",
    "famsup - помогает ли семья в обучении (бинарный: yes, no) Мода: yes<br>\n",
    "paid - посещает ли дополнительные оплачиваемые занятия по предмету курса (Математика) (бинарный: yes, no) Мода: no<br>\n",
    "paid_p - посещает ли дополнительные оплачиваемые занятия по предмету курса (Португальский) (бинарный: yes, no) Мода: no<br>\n",
    "activities - посешает ли внеклассные занятия (бинарный: yes, no) Мода: no<br>\n",
    "nursery - посещал ли детский сад (бинарный: yes, no) Мода: yes<br>\n",
    "higher - собирается ли получать высшее образование (бинарный: yes, no) Мода: yes<br>\n",
    "internet - есть ли доступ в интернет дома (бинарный: yes, no) Мода: yes<br>\n",
    "romantic - есть ли отношения (бинарный: yes, no) Мода: no<br>\n",
    "famrel - качество взаимоотношения в семье (интервальный: от 1 - очень плохо до 5 - великолепно) Мода: 4<br>\n",
    "freetime - свободного времени после школы (интервальный: от 1 - очень мало до 5 - очень много) Мода: 3<br>\n",
    "goout - прогулки с друзьями (интервальный: от 1 - очень мало до 5 - очень много) Мода: 3<br>\n",
    "Dalc - потребление алкоголя в течение рабочего дня (интервальный: от 1 - очень мало до 5 - очень много) Мода: 1<br>\n",
    "Walc - потребление алкоголя в выходные дни (интервальный: от 1 - очень мало до 5 - очень много) Мода: 1<br>\n",
    "health - текущее состояние здоровья (интервальный: от 1 - очень плохое до 5 - очень хорошее) Мода: 5<br>\n",
    "absences - количество пропусков занятий в школе (абсолютный: от 0 до 93) Среднее: 5<br>\n",
    "absences_p - количество пропусков занятий в школе (абсолютный: от 0 до 93) Среднее: 4<br>\n",
    "\n",
    "(это оценки по математике)<br>\n",
    "G1M - оценка за первый год обучение (абсолютный: от 0 до 20) Среднее: 10.87<br>\n",
    "G2M - оценка за второй год обучения (абсолютный: от 0 до 20) Среднее: 10.67<br>\n",
    "G3M - оценка за последний(3-ий) год обучения (абсолютный: от 0 до 20) Среднее: 10.34<br>\n",
    "\n",
    "(это оценки по португальскому языку)<br>\n",
    "G1P - оценка за первый год обучение (абсолютный: от 0 до 20) Среднее: 11.4<br>\n",
    "G2P - оценка за второй год обучения (абсолютный: от 0 до 20) Среднее: 11.56<br>\n",
    "G3P - оценка за последний(3-ий) год обучения (абсолютный: от 0 до 20) Среднее: 11.9<br>\n",
    "\n",
    "Для корректной оценки средних значений и мод для качественных и количественных атрибутов, соединим оба файла данных с помощью FULL JOIN.<br>\n",
    "Результатом получился файл mergedStudents, в котором к конкретному предмету относятся такие показатели как: failures, paid, adsences и оценки (GnM - оценки по математике, GnP - оценки по португальскому)<br>\n",
    "Пропущенные значения в данных показываются как NaN.<br>"
   ]
  },
  {
   "cell_type": "code",
   "execution_count": 346,
   "id": "15bb08d8",
   "metadata": {},
   "outputs": [],
   "source": [
    "import numpy as np\n",
    "import pandas as pd\n",
    "import matplotlib.pyplot as plt\n",
    "import seaborn as sns\n",
    "import statistics as stat"
   ]
  },
  {
   "cell_type": "code",
   "execution_count": 347,
   "id": "af7b9a7d-357f-492c-a93f-b1bb8e88c6a7",
   "metadata": {},
   "outputs": [
    {
     "data": {
      "text/html": [
       "<div>\n",
       "<style scoped>\n",
       "    .dataframe tbody tr th:only-of-type {\n",
       "        vertical-align: middle;\n",
       "    }\n",
       "\n",
       "    .dataframe tbody tr th {\n",
       "        vertical-align: top;\n",
       "    }\n",
       "\n",
       "    .dataframe thead th {\n",
       "        text-align: right;\n",
       "    }\n",
       "</style>\n",
       "<table border=\"1\" class=\"dataframe\">\n",
       "  <thead>\n",
       "    <tr style=\"text-align: right;\">\n",
       "      <th></th>\n",
       "      <th>SCHOOL</th>\n",
       "      <th>SEX</th>\n",
       "      <th>AGE</th>\n",
       "      <th>ADDRESS</th>\n",
       "      <th>FAMSIZE</th>\n",
       "      <th>PSTATUS</th>\n",
       "      <th>MEDU</th>\n",
       "      <th>FEDU</th>\n",
       "      <th>MJOB</th>\n",
       "      <th>FJOB</th>\n",
       "      <th>...</th>\n",
       "      <th>WALC</th>\n",
       "      <th>HEALTH</th>\n",
       "      <th>ABSENCES</th>\n",
       "      <th>ABSENCES_P</th>\n",
       "      <th>G1M</th>\n",
       "      <th>G2M</th>\n",
       "      <th>G3M</th>\n",
       "      <th>G1P</th>\n",
       "      <th>G2P</th>\n",
       "      <th>G3P</th>\n",
       "    </tr>\n",
       "  </thead>\n",
       "  <tbody>\n",
       "    <tr>\n",
       "      <th>0</th>\n",
       "      <td>GP</td>\n",
       "      <td>M</td>\n",
       "      <td>17</td>\n",
       "      <td>R</td>\n",
       "      <td>GT3</td>\n",
       "      <td>T</td>\n",
       "      <td>1</td>\n",
       "      <td>3</td>\n",
       "      <td>other</td>\n",
       "      <td>other</td>\n",
       "      <td>...</td>\n",
       "      <td>4</td>\n",
       "      <td>5</td>\n",
       "      <td>20</td>\n",
       "      <td>14</td>\n",
       "      <td>9</td>\n",
       "      <td>7</td>\n",
       "      <td>8</td>\n",
       "      <td>12</td>\n",
       "      <td>11</td>\n",
       "      <td>11</td>\n",
       "    </tr>\n",
       "    <tr>\n",
       "      <th>1</th>\n",
       "      <td>GP</td>\n",
       "      <td>M</td>\n",
       "      <td>15</td>\n",
       "      <td>U</td>\n",
       "      <td>GT3</td>\n",
       "      <td>T</td>\n",
       "      <td>3</td>\n",
       "      <td>4</td>\n",
       "      <td>other</td>\n",
       "      <td>other</td>\n",
       "      <td>...</td>\n",
       "      <td>2</td>\n",
       "      <td>4</td>\n",
       "      <td>6</td>\n",
       "      <td>2</td>\n",
       "      <td>14</td>\n",
       "      <td>13</td>\n",
       "      <td>13</td>\n",
       "      <td>14</td>\n",
       "      <td>13</td>\n",
       "      <td>14</td>\n",
       "    </tr>\n",
       "    <tr>\n",
       "      <th>2</th>\n",
       "      <td>GP</td>\n",
       "      <td>F</td>\n",
       "      <td>15</td>\n",
       "      <td>U</td>\n",
       "      <td>GT3</td>\n",
       "      <td>T</td>\n",
       "      <td>1</td>\n",
       "      <td>2</td>\n",
       "      <td>at_home</td>\n",
       "      <td>services</td>\n",
       "      <td>...</td>\n",
       "      <td>2</td>\n",
       "      <td>1</td>\n",
       "      <td>2</td>\n",
       "      <td>0</td>\n",
       "      <td>16</td>\n",
       "      <td>15</td>\n",
       "      <td>15</td>\n",
       "      <td>14</td>\n",
       "      <td>14</td>\n",
       "      <td>14</td>\n",
       "    </tr>\n",
       "    <tr>\n",
       "      <th>3</th>\n",
       "      <td>GP</td>\n",
       "      <td>M</td>\n",
       "      <td>15</td>\n",
       "      <td>U</td>\n",
       "      <td>GT3</td>\n",
       "      <td>T</td>\n",
       "      <td>2</td>\n",
       "      <td>2</td>\n",
       "      <td>services</td>\n",
       "      <td>services</td>\n",
       "      <td>...</td>\n",
       "      <td>2</td>\n",
       "      <td>5</td>\n",
       "      <td>6</td>\n",
       "      <td>6</td>\n",
       "      <td>16</td>\n",
       "      <td>14</td>\n",
       "      <td>15</td>\n",
       "      <td>14</td>\n",
       "      <td>13</td>\n",
       "      <td>13</td>\n",
       "    </tr>\n",
       "    <tr>\n",
       "      <th>4</th>\n",
       "      <td>GP</td>\n",
       "      <td>F</td>\n",
       "      <td>16</td>\n",
       "      <td>U</td>\n",
       "      <td>LE3</td>\n",
       "      <td>T</td>\n",
       "      <td>2</td>\n",
       "      <td>4</td>\n",
       "      <td>other</td>\n",
       "      <td>health</td>\n",
       "      <td>...</td>\n",
       "      <td>2</td>\n",
       "      <td>5</td>\n",
       "      <td>2</td>\n",
       "      <td>2</td>\n",
       "      <td>13</td>\n",
       "      <td>13</td>\n",
       "      <td>13</td>\n",
       "      <td>14</td>\n",
       "      <td>12</td>\n",
       "      <td>13</td>\n",
       "    </tr>\n",
       "    <tr>\n",
       "      <th>...</th>\n",
       "      <td>...</td>\n",
       "      <td>...</td>\n",
       "      <td>...</td>\n",
       "      <td>...</td>\n",
       "      <td>...</td>\n",
       "      <td>...</td>\n",
       "      <td>...</td>\n",
       "      <td>...</td>\n",
       "      <td>...</td>\n",
       "      <td>...</td>\n",
       "      <td>...</td>\n",
       "      <td>...</td>\n",
       "      <td>...</td>\n",
       "      <td>...</td>\n",
       "      <td>...</td>\n",
       "      <td>...</td>\n",
       "      <td>...</td>\n",
       "      <td>...</td>\n",
       "      <td>...</td>\n",
       "      <td>...</td>\n",
       "      <td>...</td>\n",
       "    </tr>\n",
       "    <tr>\n",
       "      <th>677</th>\n",
       "      <td>GP</td>\n",
       "      <td>F</td>\n",
       "      <td>19</td>\n",
       "      <td>U</td>\n",
       "      <td>GT3</td>\n",
       "      <td>T</td>\n",
       "      <td>2</td>\n",
       "      <td>1</td>\n",
       "      <td>at_home</td>\n",
       "      <td>other</td>\n",
       "      <td>...</td>\n",
       "      <td>1</td>\n",
       "      <td>2</td>\n",
       "      <td>20</td>\n",
       "      <td>NaN</td>\n",
       "      <td>14</td>\n",
       "      <td>12</td>\n",
       "      <td>13</td>\n",
       "      <td>NaN</td>\n",
       "      <td>NaN</td>\n",
       "      <td>NaN</td>\n",
       "    </tr>\n",
       "    <tr>\n",
       "      <th>678</th>\n",
       "      <td>MS</td>\n",
       "      <td>F</td>\n",
       "      <td>18</td>\n",
       "      <td>R</td>\n",
       "      <td>LE3</td>\n",
       "      <td>A</td>\n",
       "      <td>1</td>\n",
       "      <td>4</td>\n",
       "      <td>at_home</td>\n",
       "      <td>other</td>\n",
       "      <td>...</td>\n",
       "      <td>4</td>\n",
       "      <td>5</td>\n",
       "      <td>0</td>\n",
       "      <td>NaN</td>\n",
       "      <td>13</td>\n",
       "      <td>13</td>\n",
       "      <td>13</td>\n",
       "      <td>NaN</td>\n",
       "      <td>NaN</td>\n",
       "      <td>NaN</td>\n",
       "    </tr>\n",
       "    <tr>\n",
       "      <th>679</th>\n",
       "      <td>GP</td>\n",
       "      <td>F</td>\n",
       "      <td>19</td>\n",
       "      <td>R</td>\n",
       "      <td>GT3</td>\n",
       "      <td>A</td>\n",
       "      <td>3</td>\n",
       "      <td>1</td>\n",
       "      <td>services</td>\n",
       "      <td>at_home</td>\n",
       "      <td>...</td>\n",
       "      <td>2</td>\n",
       "      <td>5</td>\n",
       "      <td>12</td>\n",
       "      <td>NaN</td>\n",
       "      <td>14</td>\n",
       "      <td>13</td>\n",
       "      <td>13</td>\n",
       "      <td>NaN</td>\n",
       "      <td>NaN</td>\n",
       "      <td>NaN</td>\n",
       "    </tr>\n",
       "    <tr>\n",
       "      <th>680</th>\n",
       "      <td>GP</td>\n",
       "      <td>F</td>\n",
       "      <td>19</td>\n",
       "      <td>U</td>\n",
       "      <td>LE3</td>\n",
       "      <td>T</td>\n",
       "      <td>3</td>\n",
       "      <td>2</td>\n",
       "      <td>services</td>\n",
       "      <td>other</td>\n",
       "      <td>...</td>\n",
       "      <td>2</td>\n",
       "      <td>1</td>\n",
       "      <td>22</td>\n",
       "      <td>NaN</td>\n",
       "      <td>13</td>\n",
       "      <td>10</td>\n",
       "      <td>11</td>\n",
       "      <td>NaN</td>\n",
       "      <td>NaN</td>\n",
       "      <td>NaN</td>\n",
       "    </tr>\n",
       "    <tr>\n",
       "      <th>681</th>\n",
       "      <td>GP</td>\n",
       "      <td>F</td>\n",
       "      <td>18</td>\n",
       "      <td>U</td>\n",
       "      <td>GT3</td>\n",
       "      <td>T</td>\n",
       "      <td>2</td>\n",
       "      <td>4</td>\n",
       "      <td>services</td>\n",
       "      <td>at_home</td>\n",
       "      <td>...</td>\n",
       "      <td>1</td>\n",
       "      <td>3</td>\n",
       "      <td>8</td>\n",
       "      <td>NaN</td>\n",
       "      <td>14</td>\n",
       "      <td>12</td>\n",
       "      <td>12</td>\n",
       "      <td>NaN</td>\n",
       "      <td>NaN</td>\n",
       "      <td>NaN</td>\n",
       "    </tr>\n",
       "  </tbody>\n",
       "</table>\n",
       "<p>682 rows × 39 columns</p>\n",
       "</div>"
      ],
      "text/plain": [
       "    SCHOOL SEX  AGE ADDRESS FAMSIZE PSTATUS  MEDU  FEDU      MJOB      FJOB  \\\n",
       "0       GP   M   17       R     GT3       T     1     3     other     other   \n",
       "1       GP   M   15       U     GT3       T     3     4     other     other   \n",
       "2       GP   F   15       U     GT3       T     1     2   at_home  services   \n",
       "3       GP   M   15       U     GT3       T     2     2  services  services   \n",
       "4       GP   F   16       U     LE3       T     2     4     other    health   \n",
       "..     ...  ..  ...     ...     ...     ...   ...   ...       ...       ...   \n",
       "677     GP   F   19       U     GT3       T     2     1   at_home     other   \n",
       "678     MS   F   18       R     LE3       A     1     4   at_home     other   \n",
       "679     GP   F   19       R     GT3       A     3     1  services   at_home   \n",
       "680     GP   F   19       U     LE3       T     3     2  services     other   \n",
       "681     GP   F   18       U     GT3       T     2     4  services   at_home   \n",
       "\n",
       "     ... WALC HEALTH ABSENCES ABSENCES_P  G1M  G2M  G3M  G1P G2P G3P  \n",
       "0    ...    4      5       20         14    9    7    8   12  11  11  \n",
       "1    ...    2      4        6          2   14   13   13   14  13  14  \n",
       "2    ...    2      1        2          0   16   15   15   14  14  14  \n",
       "3    ...    2      5        6          6   16   14   15   14  13  13  \n",
       "4    ...    2      5        2          2   13   13   13   14  12  13  \n",
       "..   ...  ...    ...      ...        ...  ...  ...  ...  ...  ..  ..  \n",
       "677  ...    1      2       20        NaN   14   12   13  NaN NaN NaN  \n",
       "678  ...    4      5        0        NaN   13   13   13  NaN NaN NaN  \n",
       "679  ...    2      5       12        NaN   14   13   13  NaN NaN NaN  \n",
       "680  ...    2      1       22        NaN   13   10   11  NaN NaN NaN  \n",
       "681  ...    1      3        8        NaN   14   12   12  NaN NaN NaN  \n",
       "\n",
       "[682 rows x 39 columns]"
      ]
     },
     "execution_count": 347,
     "metadata": {},
     "output_type": "execute_result"
    }
   ],
   "source": [
    "# загружаем данные по курсу математики\n",
    "students = pd.read_csv('mergedStudent.csv', sep=';')\n",
    "students"
   ]
  },
  {
   "cell_type": "markdown",
   "id": "b91540e5-c1ca-4038-8ae4-6ed96f76aca1",
   "metadata": {
    "tags": []
   },
   "source": [
    "### Пункт 3: Визуализация данных отдельных показателей<br>\n"
   ]
  },
  {
   "cell_type": "code",
   "execution_count": 348,
   "id": "075cc141-9412-40fa-981f-3a39a5f2218e",
   "metadata": {},
   "outputs": [
    {
     "data": {
      "image/png": "[encoded data removed]",
      "text/plain": [
       "<Figure size 360x360 with 1 Axes>"
      ]
     },
     "metadata": {},
     "output_type": "display_data"
    }
   ],
   "source": [
    "#Соотношение количества ответов о причине выбора школы (качественный тип данных)\n",
    "df = pd.DataFrame(data=students[\"REASON\"].value_counts())\n",
    "plot = df.plot.pie(subplots=True, figsize=(5, 5), rotatelabels=True, title = 'Соотношение количества ответов о причине выбора школы (качественный тип данных)')"
   ]
  },
  {
   "cell_type": "code",
   "execution_count": 349,
   "id": "2dc9a2c9-9a75-4e4e-b909-b55cc6de36b1",
   "metadata": {},
   "outputs": [
    {
     "data": {
      "text/plain": [
       "<AxesSubplot:xlabel='FREETIME', ylabel='count'>"
      ]
     },
     "execution_count": 349,
     "metadata": {},
     "output_type": "execute_result"
    },
    {
     "data": {
      "image/png": "[encoded data removed]",
      "text/plain": [
       "<Figure size 432x288 with 1 Axes>"
      ]
     },
     "metadata": {
      "needs_background": "light"
     },
     "output_type": "display_data"
    }
   ],
   "source": [
    "#Количество свободного времени у учеников (качественный)\n",
    "sns.countplot(x = \"FREETIME\", data = students)"
   ]
  },
  {
   "cell_type": "code",
   "execution_count": 350,
   "id": "99210186-c26d-463a-9b34-dc74621b8620",
   "metadata": {},
   "outputs": [
    {
     "data": {
      "image/png": "[encoded data removed]",
      "text/plain": [
       "<Figure size 1080x432 with 2 Axes>"
      ]
     },
     "metadata": {
      "needs_background": "light"
     },
     "output_type": "display_data"
    }
   ],
   "source": [
    "#Работы родителей учеников (качественный)\n",
    "_, axes = plt.subplots(nrows=1, ncols=2, figsize=(15, 6))\n",
    "\n",
    "sns.histplot(x=\"MJOB\", data=students, ax=axes[0])\n",
    "sns.histplot(x=\"FJOB\", data=students, ax=axes[1]);"
   ]
  },
  {
   "cell_type": "code",
   "execution_count": 351,
   "id": "28577309-d1fe-4fa5-a60e-a8f6a709ecb5",
   "metadata": {},
   "outputs": [
    {
     "data": {
      "image/png": "[encoded data removed]",
      "text/plain": [
       "<Figure size 1080x720 with 2 Axes>"
      ]
     },
     "metadata": {
      "needs_background": "light"
     },
     "output_type": "display_data"
    }
   ],
   "source": [
    "#количество пропусков по занятиям (количественный)\n",
    "_, axes = plt.subplots(nrows=2, ncols=1, figsize=(15, 10))\n",
    "\n",
    "sns.histplot(x=\"ABSENCES\", data=students, ax=axes[0])\n",
    "sns.histplot(x=\"ABSENCES_P\", data=students, ax=axes[1]);"
   ]
  },
  {
   "cell_type": "code",
   "execution_count": 352,
   "id": "c38cb893-8465-4c89-acc8-39a79547b44c",
   "metadata": {},
   "outputs": [
    {
     "data": {
      "text/plain": [
       "[10.879606879606879,\n",
       " 10.678132678132679,\n",
       " 10.343980343980345,\n",
       " 11.397260273972602,\n",
       " 11.56468797564688,\n",
       " 11.898021308980214]"
      ]
     },
     "execution_count": 352,
     "metadata": {},
     "output_type": "execute_result"
    }
   ],
   "source": [
    "average_grade = []\n",
    "average_grade.append(students[\"G1M\"].mean())\n",
    "average_grade.append(students[\"G2M\"].mean())\n",
    "average_grade.append(students[\"G3M\"].mean())\n",
    "average_grade.append(students[\"G1P\"].mean())\n",
    "average_grade.append(students[\"G2P\"].mean())\n",
    "average_grade.append(students[\"G3P\"].mean())\n",
    "average_grade"
   ]
  },
  {
   "cell_type": "code",
   "execution_count": 353,
   "id": "31000015-a01c-4631-ae46-64e022872aa0",
   "metadata": {},
   "outputs": [
    {
     "data": {
      "text/plain": [
       "[Text(0, 0, 'G1M'),\n",
       " Text(1, 0, 'G2M'),\n",
       " Text(2, 0, 'G3M'),\n",
       " Text(3, 0, 'G1P'),\n",
       " Text(4, 0, 'G2P'),\n",
       " Text(5, 0, 'G3P')]"
      ]
     },
     "execution_count": 353,
     "metadata": {},
     "output_type": "execute_result"
    },
    {
     "data": {
      "image/png": "[encoded data removed]",
      "text/plain": [
       "<Figure size 432x288 with 1 Axes>"
      ]
     },
     "metadata": {
      "needs_background": "light"
     },
     "output_type": "display_data"
    }
   ],
   "source": [
    "#Средние оценки по предметам за 3 года (количественный)\n",
    "cat_par = [\"G1M\", \"G2M\", \"G3M\", \"G1P\", \"G2P\", \"G3P\"]\n",
    "width = 0.3\n",
    "x = np.arange(len(cat_par))\n",
    "fig, ax = plt.subplots()\n",
    "rects1 = ax.bar(x - width/2, average_grade, width)\n",
    "\n",
    "ax.set_title('Средние оценки по предметам')\n",
    "ax.set_xticks(x)\n",
    "ax.set_xticklabels(cat_par)"
   ]
  },
  {
   "cell_type": "code",
   "execution_count": 354,
   "id": "9aac4be2-0b33-40c3-91b9-55ad9494322a",
   "metadata": {},
   "outputs": [
    {
     "data": {
      "text/plain": [
       "<AxesSubplot:xlabel='AGE', ylabel='count'>"
      ]
     },
     "execution_count": 354,
     "metadata": {},
     "output_type": "execute_result"
    },
    {
     "data": {
      "image/png": "[encoded data removed]",
      "text/plain": [
       "<Figure size 432x288 with 1 Axes>"
      ]
     },
     "metadata": {
      "needs_background": "light"
     },
     "output_type": "display_data"
    }
   ],
   "source": [
    "#Количество студентов определенного возраста (количественный)\n",
    "sns.countplot(x = \"AGE\", data = students)"
   ]
  },
  {
   "cell_type": "markdown",
   "id": "514c5646-89e5-41b0-b147-41411a333acd",
   "metadata": {},
   "source": [
    "### Пункт 4: Группировка объектов\n",
    "В качестве атрибута группировки выберем атрибут reason, отражающий причины постуления учеников в их школу."
   ]
  },
  {
   "cell_type": "code",
   "execution_count": 355,
   "id": "7a1fbdf3-4751-4884-bc32-436bafac9da0",
   "metadata": {},
   "outputs": [
    {
     "name": "stdout",
     "output_type": "stream",
     "text": [
      "Групп: 4\n",
      "course\n",
      "home\n",
      "other\n",
      "reputation\n"
     ]
    }
   ],
   "source": [
    "groups = students.groupby('REASON')\n",
    "print(\"Групп: {0}\".format(len(groups)))\n",
    "for reason, g in groups:\n",
    "    print(reason)"
   ]
  },
  {
   "cell_type": "markdown",
   "id": "6fd639f6-edb3-430c-832f-ec500141d906",
   "metadata": {},
   "source": [
    "Вычислим средние значения по количественным показателям для каждой группы:"
   ]
  },
  {
   "cell_type": "code",
   "execution_count": 356,
   "id": "a63e29d3-4e75-492e-90e3-db4b7c0bb1e4",
   "metadata": {},
   "outputs": [
    {
     "name": "stdout",
     "output_type": "stream",
     "text": [
      "Reason: course     mean age:16.82 mean abs_m: 3.83 mean abs_p: 3.44\n",
      "Reason: home       mean age:16.81 mean abs_m: 6.22 mean abs_p: 4.49\n",
      "Reason: other      mean age:16.77 mean abs_m: 4.04 mean abs_p: 2.78\n",
      "Reason: reputation mean age:16.79 mean abs_m: 5.90 mean abs_p: 3.81\n"
     ]
    }
   ],
   "source": [
    "for (reason, g) in groups:\n",
    "    print(\"Reason: {0:10} mean age:{1:5.2f} mean abs_m:{2:5.2f} mean abs_p:{3:5.2f}\".format(reason, g[\"AGE\"].mean(), g[\"ABSENCES\"].mean(), g[\"ABSENCES_P\"].mean()))"
   ]
  },
  {
   "cell_type": "code",
   "execution_count": 357,
   "id": "b059a749-1364-4846-85d4-0f58152a5ccc",
   "metadata": {},
   "outputs": [
    {
     "name": "stdout",
     "output_type": "stream",
     "text": [
      "Reason: course     mean G1M:10.59 mean G2M:10.15 mean G3M: 9.74 mean G1P:10.99 mean G2P: 11.15 mean G3P:11.54\n",
      "Reason: home       mean G1M:10.75 mean G2M:10.67 mean G3M:10.15 mean G1P:11.63 mean G2P: 11.75 mean G3P:12.15\n",
      "Reason: other      mean G1M:10.83 mean G2M:11.22 mean G3M:11.17 mean G1P:10.69 mean G2P: 10.78 mean G3P:10.69\n",
      "Reason: reputation mean G1M:11.46 mean G2M:11.26 mean G3M:11.14 mean G1P:12.31 mean G2P: 12.59 mean G3P:12.94\n"
     ]
    }
   ],
   "source": [
    "for (reason, g) in groups:\n",
    "    print(\"Reason: {0:10} mean G1M:{1:5.2f} mean G2M:{2:5.2f} mean G3M:{3:5.2f} mean G1P:{4:5.2f} mean G2P: {5:5.2f} mean G3P:{6:5.2f}\".format(reason, g[\"G1M\"].mean(), g[\"G2M\"].mean(), g[\"G3M\"].mean(), g[\"G1P\"].mean(), g[\"G2P\"].mean(), g[\"G3P\"].mean()))"
   ]
  },
  {
   "cell_type": "markdown",
   "id": "479ec5a3-3876-4246-998b-a00d79aa2e18",
   "metadata": {},
   "source": [
    "Наибольшую разницу в средних значениях имеют параметры ABSENCES и ABSENCES_P, отражающие количество пропусков занятий.\n",
    "Построим для них диаграммы размаха по группам:"
   ]
  },
  {
   "cell_type": "code",
   "execution_count": 358,
   "id": "f1737084-d4a7-423a-9cff-4c92de66cfaa",
   "metadata": {},
   "outputs": [
    {
     "data": {
      "text/plain": [
       "<AxesSubplot:xlabel='ABSENCES_P', ylabel='REASON'>"
      ]
     },
     "execution_count": 358,
     "metadata": {},
     "output_type": "execute_result"
    },
    {
     "data": {
      "image/png": "[encoded data removed]",
      "text/plain": [
       "<Figure size 1080x720 with 2 Axes>"
      ]
     },
     "metadata": {
      "needs_background": "light"
     },
     "output_type": "display_data"
    }
   ],
   "source": [
    "# создаем диаграммы размаха показателя \"ABSENCES\" и \"ABSENCES_P\" по группам \"REASON\"\n",
    "_, axes = plt.subplots(nrows=2, ncols=1, figsize=(15, 10))\n",
    "sns.boxplot(x = \"ABSENCES\", y = \"REASON\", data = students, ax = axes[0])\n",
    "sns.boxplot(x = \"ABSENCES_P\", y = \"REASON\", data = students, ax = axes[1])"
   ]
  },
  {
   "cell_type": "markdown",
   "id": "e68582c7-86ef-47c3-aed7-8eb840a1898f",
   "metadata": {},
   "source": [
    "Найдем для каждого качественного показателя моду внутри каждой из групп и найдем атрибут с наибольшей разницей по частотам: "
   ]
  },
  {
   "cell_type": "code",
   "execution_count": 359,
   "id": "c11eae7a-3539-4f59-817e-0b094c555c6a",
   "metadata": {},
   "outputs": [
    {
     "name": "stdout",
     "output_type": "stream",
     "text": [
      "Reason: course     FAMREL:4 FREETIME:3 GOOUT:3 DALC:1 WALC:1\n",
      "Reason: home       FAMREL:4 FREETIME:3 GOOUT:3 DALC:1 WALC:1\n",
      "Reason: other      FAMREL:4 FREETIME:3 GOOUT:3 DALC:1 WALC:1\n",
      "Reason: reputation FAMREL:4 FREETIME:3 GOOUT:3 DALC:1 WALC:1\n"
     ]
    }
   ],
   "source": [
    "for (reason, g) in groups:\n",
    "    print(\"Reason: {0:10} FAMREL:{1} FREETIME:{2} GOOUT:{3} DALC:{4} WALC:{5}\".format(reason, stat.mode(g[\"FAMREL\"]), stat.mode(g[\"FREETIME\"]), stat.mode(g[\"GOOUT\"]),stat.mode(g[\"DALC\"]),stat.mode(g[\"WALC\"])))"
   ]
  },
  {
   "cell_type": "code",
   "execution_count": 360,
   "id": "260f09c6-49c5-4159-9908-3e8950d37dd5",
   "metadata": {},
   "outputs": [
    {
     "name": "stdout",
     "output_type": "stream",
     "text": [
      "Reason: course     MJOB:other FJOB:other MEDU:2 FEDU:2 guardian:mother traveltime:1 studytime:2\n",
      "Reason: home       MJOB:other FJOB:other MEDU:3 FEDU:2 guardian:mother traveltime:1 studytime:2\n",
      "Reason: other      MJOB:other FJOB:other MEDU:4 FEDU:1 guardian:mother traveltime:1 studytime:1\n",
      "Reason: reputation MJOB:other FJOB:other MEDU:4 FEDU:2 guardian:mother traveltime:1 studytime:2\n"
     ]
    }
   ],
   "source": [
    "for (reason, g) in groups:\n",
    "    print(\"Reason: {0:10} MJOB:{1} FJOB:{2} MEDU:{3} FEDU:{4} guardian:{5} traveltime:{6} studytime:{7}\".format(reason, stat.mode(g[\"MJOB\"]), stat.mode(g[\"FJOB\"]), stat.mode(g[\"MEDU\"]), stat.mode(g[\"FEDU\"]), stat.mode(g[\"GUARDIAN\"]), stat.mode(g[\"TRAVELTIME\"]), stat.mode(g[\"STUDYTIME\"])))"
   ]
  },
  {
   "cell_type": "markdown",
   "id": "7f8ead7c-c33f-4898-9563-7fd0b94c7926",
   "metadata": {},
   "source": [
    "По полученным результатам видно, что наибольшую разницу по частотам имеет атрибут MEDU<br>\n",
    "### Пункт 5: Визуализация зависимостей показателей"
   ]
  },
  {
   "cell_type": "code",
   "execution_count": 361,
   "id": "df40f709-bf8a-4560-9424-11379fad4502",
   "metadata": {},
   "outputs": [
    {
     "data": {
      "text/plain": [
       "<AxesSubplot:xlabel='AGE', ylabel='ABSENCES_P'>"
      ]
     },
     "execution_count": 361,
     "metadata": {},
     "output_type": "execute_result"
    },
    {
     "data": {
      "image/png": "[encoded data removed]",
      "text/plain": [
       "<Figure size 432x288 with 1 Axes>"
      ]
     },
     "metadata": {
      "needs_background": "light"
     },
     "output_type": "display_data"
    }
   ],
   "source": [
    "#Зависимость количества пропущенных занятий по португальскому от возраста (количественный от количественного)\n",
    "sns.scatterplot(x = \"AGE\", y = \"ABSENCES_P\",  data = students)"
   ]
  },
  {
   "cell_type": "code",
   "execution_count": 362,
   "id": "60ca35f0-6be6-49d1-8463-09940fd84b98",
   "metadata": {},
   "outputs": [
    {
     "data": {
      "text/plain": [
       "<AxesSubplot:xlabel='SEX', ylabel='count'>"
      ]
     },
     "execution_count": 362,
     "metadata": {},
     "output_type": "execute_result"
    },
    {
     "data": {
      "image/png": "[encoded data removed]",
      "text/plain": [
       "<Figure size 432x288 with 2 Axes>"
      ]
     },
     "metadata": {
      "needs_background": "light"
     },
     "output_type": "display_data"
    }
   ],
   "source": [
    "#соотношение количества неудач у разных полов по математике и португальскому (качественный от качественного)\n",
    "_, axes = plt.subplots(nrows = 1, ncols = 2)\n",
    "sns.countplot(x = \"SEX\", hue = \"FAILURES\", data = students, ax = axes[0])\n",
    "sns.countplot(x = \"SEX\", hue = \"FAILURES_P\", data = students, ax = axes[1])"
   ]
  },
  {
   "cell_type": "code",
   "execution_count": 363,
   "id": "fb5948c3-7025-4689-bc55-581c5c91437c",
   "metadata": {},
   "outputs": [
    {
     "data": {
      "text/plain": [
       "<AxesSubplot:xlabel='ABSENCES_P', ylabel='count'>"
      ]
     },
     "execution_count": 363,
     "metadata": {},
     "output_type": "execute_result"
    },
    {
     "data": {
      "image/png": "[encoded data removed]",
      "text/plain": [
       "<Figure size 1080x720 with 2 Axes>"
      ]
     },
     "metadata": {
      "needs_background": "light"
     },
     "output_type": "display_data"
    }
   ],
   "source": [
    "#Зависимость количества пропусков занятий от наличия романтических отношений (количественный и качественный)\n",
    "_, axes = plt.subplots(nrows = 2, ncols = 1, figsize=(15, 10))\n",
    "sns.countplot(x = \"ABSENCES\", hue = \"ROMANTIC\", data = students, ax = axes[0])\n",
    "sns.countplot(x = \"ABSENCES_P\", hue = \"ROMANTIC\", data = students, ax = axes[1])"
   ]
  },
  {
   "cell_type": "markdown",
   "id": "7c404108-70e2-4aab-9ef3-adb6df168597",
   "metadata": {},
   "source": [
    "### Пункт 6: Устранение пропусков и поиск аномальных выбросов"
   ]
  },
  {
   "cell_type": "code",
   "execution_count": 364,
   "id": "8e0b28de-83f5-41fa-a7b7-73c55946568d",
   "metadata": {},
   "outputs": [
    {
     "data": {
      "image/png": "[encoded data removed]",
      "text/plain": [
       "<Figure size 1080x504 with 21 Axes>"
      ]
     },
     "metadata": {
      "needs_background": "light"
     },
     "output_type": "display_data"
    }
   ],
   "source": [
    "numeric_col = students.describe().columns\n",
    "fig, ax = plt.subplots(ncols = len(numeric_col), figsize = (15, 7))\n",
    "fig.tight_layout()\n",
    "for col, ax in zip(numeric_col, ax):\n",
    "    sns.boxplot(ax = ax, data = students[[col]])"
   ]
  },
  {
   "cell_type": "code",
   "execution_count": 365,
   "id": "fa189164-10a8-43ac-8767-bb1648ae6736",
   "metadata": {},
   "outputs": [
    {
     "data": {
      "text/plain": [
       "<AxesSubplot:xlabel='ABSENCES', ylabel='AGE'>"
      ]
     },
     "execution_count": 365,
     "metadata": {},
     "output_type": "execute_result"
    },
    {
     "data": {
      "image/png": "[encoded data removed]",
      "text/plain": [
       "<Figure size 432x288 with 1 Axes>"
      ]
     },
     "metadata": {
      "needs_background": "light"
     },
     "output_type": "display_data"
    }
   ],
   "source": [
    "sns.scatterplot(x = \"ABSENCES\", y = \"AGE\",  data = students)"
   ]
  },
  {
   "cell_type": "code",
   "execution_count": 366,
   "id": "bc4014ed-8feb-4006-9461-ac913f4fd859",
   "metadata": {},
   "outputs": [
    {
     "data": {
      "text/plain": [
       "<AxesSubplot:xlabel='AGE', ylabel='count'>"
      ]
     },
     "execution_count": 366,
     "metadata": {},
     "output_type": "execute_result"
    },
    {
     "data": {
      "image/png": "[encoded data removed]",
      "text/plain": [
       "<Figure size 432x288 with 1 Axes>"
      ]
     },
     "metadata": {
      "needs_background": "light"
     },
     "output_type": "display_data"
    }
   ],
   "source": [
    "sns.countplot(x = \"AGE\", data = students)"
   ]
  },
  {
   "cell_type": "markdown",
   "id": "30e18f7c-f109-4183-96e7-19c466b86d94",
   "metadata": {},
   "source": [
    "Подозрительно выглядят: ученик с 75 пропусками и ученик, которому 22, однако относительно предметной области являются корректными<br>\n",
    "Теперь подсчитаем количество пропусков в таблице для каждого показателя:<br>"
   ]
  },
  {
   "cell_type": "code",
   "execution_count": 367,
   "id": "2f81aabe-dede-4510-a5b6-9c1db80b34d8",
   "metadata": {},
   "outputs": [
    {
     "data": {
      "text/plain": [
       "SCHOOL          0\n",
       "SEX             0\n",
       "AGE             0\n",
       "ADDRESS         0\n",
       "FAMSIZE         0\n",
       "PSTATUS         0\n",
       "MEDU            0\n",
       "FEDU            0\n",
       "MJOB            0\n",
       "FJOB            0\n",
       "REASON          0\n",
       "NURSERY         0\n",
       "INTERNET        0\n",
       "GUARDIAN        0\n",
       "TRAVELTIME      0\n",
       "STUDYTIME       0\n",
       "FAILURES        0\n",
       "FAILURES_P     25\n",
       "SCHOOLSUP       0\n",
       "FAMSUP          0\n",
       "PAID            0\n",
       "PAID_P         25\n",
       "ACTIVITIES      0\n",
       "HIGHER          0\n",
       "ROMANTIC        0\n",
       "FAMREL          0\n",
       "FREETIME        0\n",
       "GOOUT           0\n",
       "DALC            0\n",
       "WALC            0\n",
       "HEALTH          0\n",
       "ABSENCES        0\n",
       "ABSENCES_P     25\n",
       "G1M           275\n",
       "G2M           275\n",
       "G3M           275\n",
       "G1P            25\n",
       "G2P            25\n",
       "G3P            25\n",
       "dtype: int64"
      ]
     },
     "execution_count": 367,
     "metadata": {},
     "output_type": "execute_result"
    }
   ],
   "source": [
    "students.isnull().sum()"
   ]
  },
  {
   "cell_type": "markdown",
   "id": "7d5c11b8-b998-4d7a-84a2-422deb2f0e5e",
   "metadata": {},
   "source": [
    "Теперь заполним пропущенные значения. Пропуски в столбцах с оценкой заменим на -1, так как это значение невозможно, а пропуски в столбце PAID_P заменим на фразу unknown, чтобы указать на отсутствие данных по этой информации для конкретного ученика."
   ]
  },
  {
   "cell_type": "code",
   "execution_count": 368,
   "id": "224550d9-78cf-4ac3-97e2-b201252cfa52",
   "metadata": {},
   "outputs": [
    {
     "data": {
      "text/html": [
       "<div>\n",
       "<style scoped>\n",
       "    .dataframe tbody tr th:only-of-type {\n",
       "        vertical-align: middle;\n",
       "    }\n",
       "\n",
       "    .dataframe tbody tr th {\n",
       "        vertical-align: top;\n",
       "    }\n",
       "\n",
       "    .dataframe thead th {\n",
       "        text-align: right;\n",
       "    }\n",
       "</style>\n",
       "<table border=\"1\" class=\"dataframe\">\n",
       "  <thead>\n",
       "    <tr style=\"text-align: right;\">\n",
       "      <th></th>\n",
       "      <th>SCHOOL</th>\n",
       "      <th>SEX</th>\n",
       "      <th>AGE</th>\n",
       "      <th>ADDRESS</th>\n",
       "      <th>FAMSIZE</th>\n",
       "      <th>PSTATUS</th>\n",
       "      <th>MEDU</th>\n",
       "      <th>FEDU</th>\n",
       "      <th>MJOB</th>\n",
       "      <th>FJOB</th>\n",
       "      <th>...</th>\n",
       "      <th>WALC</th>\n",
       "      <th>HEALTH</th>\n",
       "      <th>ABSENCES</th>\n",
       "      <th>ABSENCES_P</th>\n",
       "      <th>G1M</th>\n",
       "      <th>G2M</th>\n",
       "      <th>G3M</th>\n",
       "      <th>G1P</th>\n",
       "      <th>G2P</th>\n",
       "      <th>G3P</th>\n",
       "    </tr>\n",
       "  </thead>\n",
       "  <tbody>\n",
       "    <tr>\n",
       "      <th>0</th>\n",
       "      <td>GP</td>\n",
       "      <td>M</td>\n",
       "      <td>17</td>\n",
       "      <td>R</td>\n",
       "      <td>GT3</td>\n",
       "      <td>T</td>\n",
       "      <td>1</td>\n",
       "      <td>3</td>\n",
       "      <td>other</td>\n",
       "      <td>other</td>\n",
       "      <td>...</td>\n",
       "      <td>4</td>\n",
       "      <td>5</td>\n",
       "      <td>20</td>\n",
       "      <td>14</td>\n",
       "      <td>9</td>\n",
       "      <td>7</td>\n",
       "      <td>8</td>\n",
       "      <td>12</td>\n",
       "      <td>11</td>\n",
       "      <td>11</td>\n",
       "    </tr>\n",
       "    <tr>\n",
       "      <th>1</th>\n",
       "      <td>GP</td>\n",
       "      <td>M</td>\n",
       "      <td>15</td>\n",
       "      <td>U</td>\n",
       "      <td>GT3</td>\n",
       "      <td>T</td>\n",
       "      <td>3</td>\n",
       "      <td>4</td>\n",
       "      <td>other</td>\n",
       "      <td>other</td>\n",
       "      <td>...</td>\n",
       "      <td>2</td>\n",
       "      <td>4</td>\n",
       "      <td>6</td>\n",
       "      <td>2</td>\n",
       "      <td>14</td>\n",
       "      <td>13</td>\n",
       "      <td>13</td>\n",
       "      <td>14</td>\n",
       "      <td>13</td>\n",
       "      <td>14</td>\n",
       "    </tr>\n",
       "    <tr>\n",
       "      <th>2</th>\n",
       "      <td>GP</td>\n",
       "      <td>F</td>\n",
       "      <td>15</td>\n",
       "      <td>U</td>\n",
       "      <td>GT3</td>\n",
       "      <td>T</td>\n",
       "      <td>1</td>\n",
       "      <td>2</td>\n",
       "      <td>at_home</td>\n",
       "      <td>services</td>\n",
       "      <td>...</td>\n",
       "      <td>2</td>\n",
       "      <td>1</td>\n",
       "      <td>2</td>\n",
       "      <td>0</td>\n",
       "      <td>16</td>\n",
       "      <td>15</td>\n",
       "      <td>15</td>\n",
       "      <td>14</td>\n",
       "      <td>14</td>\n",
       "      <td>14</td>\n",
       "    </tr>\n",
       "    <tr>\n",
       "      <th>3</th>\n",
       "      <td>GP</td>\n",
       "      <td>M</td>\n",
       "      <td>15</td>\n",
       "      <td>U</td>\n",
       "      <td>GT3</td>\n",
       "      <td>T</td>\n",
       "      <td>2</td>\n",
       "      <td>2</td>\n",
       "      <td>services</td>\n",
       "      <td>services</td>\n",
       "      <td>...</td>\n",
       "      <td>2</td>\n",
       "      <td>5</td>\n",
       "      <td>6</td>\n",
       "      <td>6</td>\n",
       "      <td>16</td>\n",
       "      <td>14</td>\n",
       "      <td>15</td>\n",
       "      <td>14</td>\n",
       "      <td>13</td>\n",
       "      <td>13</td>\n",
       "    </tr>\n",
       "    <tr>\n",
       "      <th>4</th>\n",
       "      <td>GP</td>\n",
       "      <td>F</td>\n",
       "      <td>16</td>\n",
       "      <td>U</td>\n",
       "      <td>LE3</td>\n",
       "      <td>T</td>\n",
       "      <td>2</td>\n",
       "      <td>4</td>\n",
       "      <td>other</td>\n",
       "      <td>health</td>\n",
       "      <td>...</td>\n",
       "      <td>2</td>\n",
       "      <td>5</td>\n",
       "      <td>2</td>\n",
       "      <td>2</td>\n",
       "      <td>13</td>\n",
       "      <td>13</td>\n",
       "      <td>13</td>\n",
       "      <td>14</td>\n",
       "      <td>12</td>\n",
       "      <td>13</td>\n",
       "    </tr>\n",
       "    <tr>\n",
       "      <th>...</th>\n",
       "      <td>...</td>\n",
       "      <td>...</td>\n",
       "      <td>...</td>\n",
       "      <td>...</td>\n",
       "      <td>...</td>\n",
       "      <td>...</td>\n",
       "      <td>...</td>\n",
       "      <td>...</td>\n",
       "      <td>...</td>\n",
       "      <td>...</td>\n",
       "      <td>...</td>\n",
       "      <td>...</td>\n",
       "      <td>...</td>\n",
       "      <td>...</td>\n",
       "      <td>...</td>\n",
       "      <td>...</td>\n",
       "      <td>...</td>\n",
       "      <td>...</td>\n",
       "      <td>...</td>\n",
       "      <td>...</td>\n",
       "      <td>...</td>\n",
       "    </tr>\n",
       "    <tr>\n",
       "      <th>677</th>\n",
       "      <td>GP</td>\n",
       "      <td>F</td>\n",
       "      <td>19</td>\n",
       "      <td>U</td>\n",
       "      <td>GT3</td>\n",
       "      <td>T</td>\n",
       "      <td>2</td>\n",
       "      <td>1</td>\n",
       "      <td>at_home</td>\n",
       "      <td>other</td>\n",
       "      <td>...</td>\n",
       "      <td>1</td>\n",
       "      <td>2</td>\n",
       "      <td>20</td>\n",
       "      <td>NaN</td>\n",
       "      <td>14</td>\n",
       "      <td>12</td>\n",
       "      <td>13</td>\n",
       "      <td>NaN</td>\n",
       "      <td>NaN</td>\n",
       "      <td>NaN</td>\n",
       "    </tr>\n",
       "    <tr>\n",
       "      <th>678</th>\n",
       "      <td>MS</td>\n",
       "      <td>F</td>\n",
       "      <td>18</td>\n",
       "      <td>R</td>\n",
       "      <td>LE3</td>\n",
       "      <td>A</td>\n",
       "      <td>1</td>\n",
       "      <td>4</td>\n",
       "      <td>at_home</td>\n",
       "      <td>other</td>\n",
       "      <td>...</td>\n",
       "      <td>4</td>\n",
       "      <td>5</td>\n",
       "      <td>0</td>\n",
       "      <td>NaN</td>\n",
       "      <td>13</td>\n",
       "      <td>13</td>\n",
       "      <td>13</td>\n",
       "      <td>NaN</td>\n",
       "      <td>NaN</td>\n",
       "      <td>NaN</td>\n",
       "    </tr>\n",
       "    <tr>\n",
       "      <th>679</th>\n",
       "      <td>GP</td>\n",
       "      <td>F</td>\n",
       "      <td>19</td>\n",
       "      <td>R</td>\n",
       "      <td>GT3</td>\n",
       "      <td>A</td>\n",
       "      <td>3</td>\n",
       "      <td>1</td>\n",
       "      <td>services</td>\n",
       "      <td>at_home</td>\n",
       "      <td>...</td>\n",
       "      <td>2</td>\n",
       "      <td>5</td>\n",
       "      <td>12</td>\n",
       "      <td>NaN</td>\n",
       "      <td>14</td>\n",
       "      <td>13</td>\n",
       "      <td>13</td>\n",
       "      <td>NaN</td>\n",
       "      <td>NaN</td>\n",
       "      <td>NaN</td>\n",
       "    </tr>\n",
       "    <tr>\n",
       "      <th>680</th>\n",
       "      <td>GP</td>\n",
       "      <td>F</td>\n",
       "      <td>19</td>\n",
       "      <td>U</td>\n",
       "      <td>LE3</td>\n",
       "      <td>T</td>\n",
       "      <td>3</td>\n",
       "      <td>2</td>\n",
       "      <td>services</td>\n",
       "      <td>other</td>\n",
       "      <td>...</td>\n",
       "      <td>2</td>\n",
       "      <td>1</td>\n",
       "      <td>22</td>\n",
       "      <td>NaN</td>\n",
       "      <td>13</td>\n",
       "      <td>10</td>\n",
       "      <td>11</td>\n",
       "      <td>NaN</td>\n",
       "      <td>NaN</td>\n",
       "      <td>NaN</td>\n",
       "    </tr>\n",
       "    <tr>\n",
       "      <th>681</th>\n",
       "      <td>GP</td>\n",
       "      <td>F</td>\n",
       "      <td>18</td>\n",
       "      <td>U</td>\n",
       "      <td>GT3</td>\n",
       "      <td>T</td>\n",
       "      <td>2</td>\n",
       "      <td>4</td>\n",
       "      <td>services</td>\n",
       "      <td>at_home</td>\n",
       "      <td>...</td>\n",
       "      <td>1</td>\n",
       "      <td>3</td>\n",
       "      <td>8</td>\n",
       "      <td>NaN</td>\n",
       "      <td>14</td>\n",
       "      <td>12</td>\n",
       "      <td>12</td>\n",
       "      <td>NaN</td>\n",
       "      <td>NaN</td>\n",
       "      <td>NaN</td>\n",
       "    </tr>\n",
       "  </tbody>\n",
       "</table>\n",
       "<p>682 rows × 39 columns</p>\n",
       "</div>"
      ],
      "text/plain": [
       "    SCHOOL SEX  AGE ADDRESS FAMSIZE PSTATUS  MEDU  FEDU      MJOB      FJOB  \\\n",
       "0       GP   M   17       R     GT3       T     1     3     other     other   \n",
       "1       GP   M   15       U     GT3       T     3     4     other     other   \n",
       "2       GP   F   15       U     GT3       T     1     2   at_home  services   \n",
       "3       GP   M   15       U     GT3       T     2     2  services  services   \n",
       "4       GP   F   16       U     LE3       T     2     4     other    health   \n",
       "..     ...  ..  ...     ...     ...     ...   ...   ...       ...       ...   \n",
       "677     GP   F   19       U     GT3       T     2     1   at_home     other   \n",
       "678     MS   F   18       R     LE3       A     1     4   at_home     other   \n",
       "679     GP   F   19       R     GT3       A     3     1  services   at_home   \n",
       "680     GP   F   19       U     LE3       T     3     2  services     other   \n",
       "681     GP   F   18       U     GT3       T     2     4  services   at_home   \n",
       "\n",
       "     ... WALC HEALTH ABSENCES ABSENCES_P  G1M  G2M  G3M  G1P G2P G3P  \n",
       "0    ...    4      5       20         14    9    7    8   12  11  11  \n",
       "1    ...    2      4        6          2   14   13   13   14  13  14  \n",
       "2    ...    2      1        2          0   16   15   15   14  14  14  \n",
       "3    ...    2      5        6          6   16   14   15   14  13  13  \n",
       "4    ...    2      5        2          2   13   13   13   14  12  13  \n",
       "..   ...  ...    ...      ...        ...  ...  ...  ...  ...  ..  ..  \n",
       "677  ...    1      2       20        NaN   14   12   13  NaN NaN NaN  \n",
       "678  ...    4      5        0        NaN   13   13   13  NaN NaN NaN  \n",
       "679  ...    2      5       12        NaN   14   13   13  NaN NaN NaN  \n",
       "680  ...    2      1       22        NaN   13   10   11  NaN NaN NaN  \n",
       "681  ...    1      3        8        NaN   14   12   12  NaN NaN NaN  \n",
       "\n",
       "[682 rows x 39 columns]"
      ]
     },
     "execution_count": 368,
     "metadata": {},
     "output_type": "execute_result"
    }
   ],
   "source": [
    "filled = students.copy()\n",
    "filled"
   ]
  },
  {
   "cell_type": "code",
   "execution_count": 369,
   "id": "00ffe43a-f2eb-4cfd-8346-8281993bbf2c",
   "metadata": {},
   "outputs": [
    {
     "data": {
      "text/html": [
       "<div>\n",
       "<style scoped>\n",
       "    .dataframe tbody tr th:only-of-type {\n",
       "        vertical-align: middle;\n",
       "    }\n",
       "\n",
       "    .dataframe tbody tr th {\n",
       "        vertical-align: top;\n",
       "    }\n",
       "\n",
       "    .dataframe thead th {\n",
       "        text-align: right;\n",
       "    }\n",
       "</style>\n",
       "<table border=\"1\" class=\"dataframe\">\n",
       "  <thead>\n",
       "    <tr style=\"text-align: right;\">\n",
       "      <th></th>\n",
       "      <th>SCHOOL</th>\n",
       "      <th>SEX</th>\n",
       "      <th>AGE</th>\n",
       "      <th>ADDRESS</th>\n",
       "      <th>FAMSIZE</th>\n",
       "      <th>PSTATUS</th>\n",
       "      <th>MEDU</th>\n",
       "      <th>FEDU</th>\n",
       "      <th>MJOB</th>\n",
       "      <th>FJOB</th>\n",
       "      <th>...</th>\n",
       "      <th>WALC</th>\n",
       "      <th>HEALTH</th>\n",
       "      <th>ABSENCES</th>\n",
       "      <th>ABSENCES_P</th>\n",
       "      <th>G1M</th>\n",
       "      <th>G2M</th>\n",
       "      <th>G3M</th>\n",
       "      <th>G1P</th>\n",
       "      <th>G2P</th>\n",
       "      <th>G3P</th>\n",
       "    </tr>\n",
       "  </thead>\n",
       "  <tbody>\n",
       "    <tr>\n",
       "      <th>0</th>\n",
       "      <td>GP</td>\n",
       "      <td>M</td>\n",
       "      <td>17</td>\n",
       "      <td>R</td>\n",
       "      <td>GT3</td>\n",
       "      <td>T</td>\n",
       "      <td>1</td>\n",
       "      <td>3</td>\n",
       "      <td>other</td>\n",
       "      <td>other</td>\n",
       "      <td>...</td>\n",
       "      <td>4</td>\n",
       "      <td>5</td>\n",
       "      <td>20</td>\n",
       "      <td>14</td>\n",
       "      <td>9</td>\n",
       "      <td>7</td>\n",
       "      <td>8</td>\n",
       "      <td>12</td>\n",
       "      <td>11</td>\n",
       "      <td>11</td>\n",
       "    </tr>\n",
       "    <tr>\n",
       "      <th>1</th>\n",
       "      <td>GP</td>\n",
       "      <td>M</td>\n",
       "      <td>15</td>\n",
       "      <td>U</td>\n",
       "      <td>GT3</td>\n",
       "      <td>T</td>\n",
       "      <td>3</td>\n",
       "      <td>4</td>\n",
       "      <td>other</td>\n",
       "      <td>other</td>\n",
       "      <td>...</td>\n",
       "      <td>2</td>\n",
       "      <td>4</td>\n",
       "      <td>6</td>\n",
       "      <td>2</td>\n",
       "      <td>14</td>\n",
       "      <td>13</td>\n",
       "      <td>13</td>\n",
       "      <td>14</td>\n",
       "      <td>13</td>\n",
       "      <td>14</td>\n",
       "    </tr>\n",
       "    <tr>\n",
       "      <th>2</th>\n",
       "      <td>GP</td>\n",
       "      <td>F</td>\n",
       "      <td>15</td>\n",
       "      <td>U</td>\n",
       "      <td>GT3</td>\n",
       "      <td>T</td>\n",
       "      <td>1</td>\n",
       "      <td>2</td>\n",
       "      <td>at_home</td>\n",
       "      <td>services</td>\n",
       "      <td>...</td>\n",
       "      <td>2</td>\n",
       "      <td>1</td>\n",
       "      <td>2</td>\n",
       "      <td>0</td>\n",
       "      <td>16</td>\n",
       "      <td>15</td>\n",
       "      <td>15</td>\n",
       "      <td>14</td>\n",
       "      <td>14</td>\n",
       "      <td>14</td>\n",
       "    </tr>\n",
       "    <tr>\n",
       "      <th>3</th>\n",
       "      <td>GP</td>\n",
       "      <td>M</td>\n",
       "      <td>15</td>\n",
       "      <td>U</td>\n",
       "      <td>GT3</td>\n",
       "      <td>T</td>\n",
       "      <td>2</td>\n",
       "      <td>2</td>\n",
       "      <td>services</td>\n",
       "      <td>services</td>\n",
       "      <td>...</td>\n",
       "      <td>2</td>\n",
       "      <td>5</td>\n",
       "      <td>6</td>\n",
       "      <td>6</td>\n",
       "      <td>16</td>\n",
       "      <td>14</td>\n",
       "      <td>15</td>\n",
       "      <td>14</td>\n",
       "      <td>13</td>\n",
       "      <td>13</td>\n",
       "    </tr>\n",
       "    <tr>\n",
       "      <th>4</th>\n",
       "      <td>GP</td>\n",
       "      <td>F</td>\n",
       "      <td>16</td>\n",
       "      <td>U</td>\n",
       "      <td>LE3</td>\n",
       "      <td>T</td>\n",
       "      <td>2</td>\n",
       "      <td>4</td>\n",
       "      <td>other</td>\n",
       "      <td>health</td>\n",
       "      <td>...</td>\n",
       "      <td>2</td>\n",
       "      <td>5</td>\n",
       "      <td>2</td>\n",
       "      <td>2</td>\n",
       "      <td>13</td>\n",
       "      <td>13</td>\n",
       "      <td>13</td>\n",
       "      <td>14</td>\n",
       "      <td>12</td>\n",
       "      <td>13</td>\n",
       "    </tr>\n",
       "    <tr>\n",
       "      <th>...</th>\n",
       "      <td>...</td>\n",
       "      <td>...</td>\n",
       "      <td>...</td>\n",
       "      <td>...</td>\n",
       "      <td>...</td>\n",
       "      <td>...</td>\n",
       "      <td>...</td>\n",
       "      <td>...</td>\n",
       "      <td>...</td>\n",
       "      <td>...</td>\n",
       "      <td>...</td>\n",
       "      <td>...</td>\n",
       "      <td>...</td>\n",
       "      <td>...</td>\n",
       "      <td>...</td>\n",
       "      <td>...</td>\n",
       "      <td>...</td>\n",
       "      <td>...</td>\n",
       "      <td>...</td>\n",
       "      <td>...</td>\n",
       "      <td>...</td>\n",
       "    </tr>\n",
       "    <tr>\n",
       "      <th>677</th>\n",
       "      <td>GP</td>\n",
       "      <td>F</td>\n",
       "      <td>19</td>\n",
       "      <td>U</td>\n",
       "      <td>GT3</td>\n",
       "      <td>T</td>\n",
       "      <td>2</td>\n",
       "      <td>1</td>\n",
       "      <td>at_home</td>\n",
       "      <td>other</td>\n",
       "      <td>...</td>\n",
       "      <td>1</td>\n",
       "      <td>2</td>\n",
       "      <td>20</td>\n",
       "      <td>-1</td>\n",
       "      <td>14</td>\n",
       "      <td>12</td>\n",
       "      <td>13</td>\n",
       "      <td>-1</td>\n",
       "      <td>-1</td>\n",
       "      <td>-1</td>\n",
       "    </tr>\n",
       "    <tr>\n",
       "      <th>678</th>\n",
       "      <td>MS</td>\n",
       "      <td>F</td>\n",
       "      <td>18</td>\n",
       "      <td>R</td>\n",
       "      <td>LE3</td>\n",
       "      <td>A</td>\n",
       "      <td>1</td>\n",
       "      <td>4</td>\n",
       "      <td>at_home</td>\n",
       "      <td>other</td>\n",
       "      <td>...</td>\n",
       "      <td>4</td>\n",
       "      <td>5</td>\n",
       "      <td>0</td>\n",
       "      <td>-1</td>\n",
       "      <td>13</td>\n",
       "      <td>13</td>\n",
       "      <td>13</td>\n",
       "      <td>-1</td>\n",
       "      <td>-1</td>\n",
       "      <td>-1</td>\n",
       "    </tr>\n",
       "    <tr>\n",
       "      <th>679</th>\n",
       "      <td>GP</td>\n",
       "      <td>F</td>\n",
       "      <td>19</td>\n",
       "      <td>R</td>\n",
       "      <td>GT3</td>\n",
       "      <td>A</td>\n",
       "      <td>3</td>\n",
       "      <td>1</td>\n",
       "      <td>services</td>\n",
       "      <td>at_home</td>\n",
       "      <td>...</td>\n",
       "      <td>2</td>\n",
       "      <td>5</td>\n",
       "      <td>12</td>\n",
       "      <td>-1</td>\n",
       "      <td>14</td>\n",
       "      <td>13</td>\n",
       "      <td>13</td>\n",
       "      <td>-1</td>\n",
       "      <td>-1</td>\n",
       "      <td>-1</td>\n",
       "    </tr>\n",
       "    <tr>\n",
       "      <th>680</th>\n",
       "      <td>GP</td>\n",
       "      <td>F</td>\n",
       "      <td>19</td>\n",
       "      <td>U</td>\n",
       "      <td>LE3</td>\n",
       "      <td>T</td>\n",
       "      <td>3</td>\n",
       "      <td>2</td>\n",
       "      <td>services</td>\n",
       "      <td>other</td>\n",
       "      <td>...</td>\n",
       "      <td>2</td>\n",
       "      <td>1</td>\n",
       "      <td>22</td>\n",
       "      <td>-1</td>\n",
       "      <td>13</td>\n",
       "      <td>10</td>\n",
       "      <td>11</td>\n",
       "      <td>-1</td>\n",
       "      <td>-1</td>\n",
       "      <td>-1</td>\n",
       "    </tr>\n",
       "    <tr>\n",
       "      <th>681</th>\n",
       "      <td>GP</td>\n",
       "      <td>F</td>\n",
       "      <td>18</td>\n",
       "      <td>U</td>\n",
       "      <td>GT3</td>\n",
       "      <td>T</td>\n",
       "      <td>2</td>\n",
       "      <td>4</td>\n",
       "      <td>services</td>\n",
       "      <td>at_home</td>\n",
       "      <td>...</td>\n",
       "      <td>1</td>\n",
       "      <td>3</td>\n",
       "      <td>8</td>\n",
       "      <td>-1</td>\n",
       "      <td>14</td>\n",
       "      <td>12</td>\n",
       "      <td>12</td>\n",
       "      <td>-1</td>\n",
       "      <td>-1</td>\n",
       "      <td>-1</td>\n",
       "    </tr>\n",
       "  </tbody>\n",
       "</table>\n",
       "<p>682 rows × 39 columns</p>\n",
       "</div>"
      ],
      "text/plain": [
       "    SCHOOL SEX  AGE ADDRESS FAMSIZE PSTATUS  MEDU  FEDU      MJOB      FJOB  \\\n",
       "0       GP   M   17       R     GT3       T     1     3     other     other   \n",
       "1       GP   M   15       U     GT3       T     3     4     other     other   \n",
       "2       GP   F   15       U     GT3       T     1     2   at_home  services   \n",
       "3       GP   M   15       U     GT3       T     2     2  services  services   \n",
       "4       GP   F   16       U     LE3       T     2     4     other    health   \n",
       "..     ...  ..  ...     ...     ...     ...   ...   ...       ...       ...   \n",
       "677     GP   F   19       U     GT3       T     2     1   at_home     other   \n",
       "678     MS   F   18       R     LE3       A     1     4   at_home     other   \n",
       "679     GP   F   19       R     GT3       A     3     1  services   at_home   \n",
       "680     GP   F   19       U     LE3       T     3     2  services     other   \n",
       "681     GP   F   18       U     GT3       T     2     4  services   at_home   \n",
       "\n",
       "     ... WALC HEALTH ABSENCES ABSENCES_P  G1M  G2M  G3M  G1P G2P G3P  \n",
       "0    ...    4      5       20         14    9    7    8   12  11  11  \n",
       "1    ...    2      4        6          2   14   13   13   14  13  14  \n",
       "2    ...    2      1        2          0   16   15   15   14  14  14  \n",
       "3    ...    2      5        6          6   16   14   15   14  13  13  \n",
       "4    ...    2      5        2          2   13   13   13   14  12  13  \n",
       "..   ...  ...    ...      ...        ...  ...  ...  ...  ...  ..  ..  \n",
       "677  ...    1      2       20         -1   14   12   13   -1  -1  -1  \n",
       "678  ...    4      5        0         -1   13   13   13   -1  -1  -1  \n",
       "679  ...    2      5       12         -1   14   13   13   -1  -1  -1  \n",
       "680  ...    2      1       22         -1   13   10   11   -1  -1  -1  \n",
       "681  ...    1      3        8         -1   14   12   12   -1  -1  -1  \n",
       "\n",
       "[682 rows x 39 columns]"
      ]
     },
     "execution_count": 369,
     "metadata": {},
     "output_type": "execute_result"
    }
   ],
   "source": [
    "filled[\"PAID_P\"] = filled[\"PAID_P\"].replace(np.nan, \"unknown\")\n",
    "filled = filled.replace(np.nan, -1)\n",
    "filled"
   ]
  },
  {
   "cell_type": "code",
   "execution_count": 371,
   "id": "9e682c9b-690f-459a-ade4-907f72d4c7b7",
   "metadata": {},
   "outputs": [
    {
     "name": "stdout",
     "output_type": "stream",
     "text": [
      "0           no\n",
      "1           no\n",
      "2           no\n",
      "3           no\n",
      "4           no\n",
      "        ...   \n",
      "677    unknown\n",
      "678    unknown\n",
      "679    unknown\n",
      "680    unknown\n",
      "681    unknown\n",
      "Name: PAID_P, Length: 682, dtype: object\n"
     ]
    },
    {
     "data": {
      "text/plain": [
       "SCHOOL        0\n",
       "SEX           0\n",
       "AGE           0\n",
       "ADDRESS       0\n",
       "FAMSIZE       0\n",
       "PSTATUS       0\n",
       "MEDU          0\n",
       "FEDU          0\n",
       "MJOB          0\n",
       "FJOB          0\n",
       "REASON        0\n",
       "NURSERY       0\n",
       "INTERNET      0\n",
       "GUARDIAN      0\n",
       "TRAVELTIME    0\n",
       "STUDYTIME     0\n",
       "FAILURES      0\n",
       "FAILURES_P    0\n",
       "SCHOOLSUP     0\n",
       "FAMSUP        0\n",
       "PAID          0\n",
       "PAID_P        0\n",
       "ACTIVITIES    0\n",
       "HIGHER        0\n",
       "ROMANTIC      0\n",
       "FAMREL        0\n",
       "FREETIME      0\n",
       "GOOUT         0\n",
       "DALC          0\n",
       "WALC          0\n",
       "HEALTH        0\n",
       "ABSENCES      0\n",
       "ABSENCES_P    0\n",
       "G1M           0\n",
       "G2M           0\n",
       "G3M           0\n",
       "G1P           0\n",
       "G2P           0\n",
       "G3P           0\n",
       "dtype: int64"
      ]
     },
     "execution_count": 371,
     "metadata": {},
     "output_type": "execute_result"
    }
   ],
   "source": [
    "print(filled.PAID_P)\n",
    "filled.isnull().sum()"
   ]
  }
 ],
 "metadata": {
  "kernelspec": {
   "display_name": "Python 3 (ipykernel)",
   "language": "python",
   "name": "python3"
  },
  "language_info": {
   "codemirror_mode": {
    "name": "ipython",
    "version": 3
   },
   "file_extension": ".py",
   "mimetype": "text/x-python",
   "name": "python",
   "nbconvert_exporter": "python",
   "pygments_lexer": "ipython3",
   "version": "3.9.7"
  }
 },
 "nbformat": 4,
 "nbformat_minor": 5
}
