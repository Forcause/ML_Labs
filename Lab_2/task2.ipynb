{
 "cells": [
  {
   "cell_type": "code",
   "execution_count": null,
   "id": "c37dc4f1-aad7-4c9a-b9b8-1c6366eff809",
   "metadata": {},
   "outputs": [],
   "source": [
    "import numpy as np\n",
    "import pandas as pd"
   ]
  },
  {
   "cell_type": "code",
   "execution_count": null,
   "id": "780ff170-c92c-4d71-8dbd-bae23c2a6638",
   "metadata": {},
   "outputs": [],
   "source": [
    "data = pd.read_csv(\"lastfm.csv\")"
   ]
  },
  {
   "cell_type": "markdown",
   "id": "cb6351d9-f053-44a5-be58-51217f4777fa",
   "metadata": {},
   "source": [
    "### Для анализа выберем Японию и США"
   ]
  },
  {
   "cell_type": "code",
   "execution_count": null,
   "id": "14fffa4c-0c24-4e4b-b55b-27354da97510",
   "metadata": {
    "tags": []
   },
   "outputs": [],
   "source": [
    "japan_data = data.loc[data[\"country\"] == 'Japan']\n",
    "usa_data = data.loc[data[\"country\"] == 'United States']\n",
    "options = ['Japan', 'United States']\n",
    "true_data = data.loc[data[\"country\"].isin(options)]\n",
    "true_data"
   ]
  },
  {
   "cell_type": "code",
   "execution_count": null,
   "id": "be372f13-75c6-45d0-bc1b-02099a874758",
   "metadata": {},
   "outputs": [],
   "source": [
    "true_data.artist.value_counts().sort_values(ascending = False)"
   ]
  },
  {
   "cell_type": "markdown",
   "id": "0b0eca35-5778-4300-b3d6-13274b3695a6",
   "metadata": {},
   "source": [
    "### Подготовка данных для ассоциативного анализа"
   ]
  },
  {
   "cell_type": "markdown",
   "id": "7c6de41b-52d0-4e80-a5e3-c65ce7150497",
   "metadata": {},
   "source": [
    "#### Выполним группировки"
   ]
  },
  {
   "cell_type": "code",
   "execution_count": null,
   "id": "f134f3a7-4954-4ff9-8034-0f9718ffa02b",
   "metadata": {
    "tags": []
   },
   "outputs": [],
   "source": [
    "#по пользователю, можно удалить\n",
    "groupped_user = true_data.groupby('user')['artist'].apply(';'.join)\n",
    "groupped_user"
   ]
  },
  {
   "cell_type": "markdown",
   "id": "c04ff5a6-c42d-4ebb-863a-cabfbd040d7a",
   "metadata": {},
   "source": [
    "#### Выполним бинаризацию"
   ]
  },
  {
   "cell_type": "code",
   "execution_count": null,
   "id": "8764f476-a01c-4e6a-a68e-e8b610835d86",
   "metadata": {
    "tags": []
   },
   "outputs": [],
   "source": [
    "#по пользователю, можно удалить\n",
    "binary_data_u = groupped_user.str.get_dummies(\";\")\n",
    "binary_data_u.iloc[5:15, 12:23]"
   ]
  },
  {
   "cell_type": "code",
   "execution_count": null,
   "id": "38d1432d-1c6c-47f0-b76b-be94dbb4c19c",
   "metadata": {
    "tags": []
   },
   "outputs": [],
   "source": [
    "pivoted_artist = true_data[['user', 'artist']].pivot_table(index='user', columns='artist',aggfunc=any, fill_value=False).astype(int)\n",
    "pivoted_artist_jp = japan_data[['user', 'artist']].pivot_table(index='user', columns='artist',aggfunc=any, fill_value=False).astype(int)\n",
    "pivoted_artist_usa = usa_data[['user', 'artist']].pivot_table(index='user', columns='artist',aggfunc=any, fill_value=False).astype(int)\n",
    "pivoted_country = true_data[['user', 'country']].pivot_table(index='user', columns='country',aggfunc=any, fill_value=False).astype(int)\n",
    "pivoted_sex_jp = japan_data[['user', 'sex']].pivot_table(index='user', columns='sex',aggfunc=any, fill_value=False).astype(int)\n",
    "pivoted_sex_usa = usa_data[['user', 'sex']].pivot_table(index='user', columns='sex',aggfunc=any, fill_value=False).astype(int)\n",
    "#pivoted_all = pd.concat([pivoted_artist, pivoted_country, pivoted_sex], axis=1)"
   ]
  },
  {
   "cell_type": "code",
   "execution_count": null,
   "id": "53ad3487-3872-4ec0-98ab-2da4236f3e72",
   "metadata": {},
   "outputs": [],
   "source": [
    "pivoted_all_japan = pd.concat([pivoted_artist_jp, pivoted_sex_jp], axis=1)\n",
    "pivoted_all_japan"
   ]
  },
  {
   "cell_type": "code",
   "execution_count": null,
   "id": "4ab02cf2-ddb8-4b2a-af82-4f85ba59fc36",
   "metadata": {},
   "outputs": [],
   "source": [
    "pivoted_all_usa = pd.concat([pivoted_artist_usa, pivoted_sex_usa], axis=1)\n",
    "pivoted_all_usa"
   ]
  },
  {
   "cell_type": "code",
   "execution_count": null,
   "id": "3354d856-c033-4995-a490-6a280f6122e3",
   "metadata": {},
   "outputs": [],
   "source": [
    "pivoted_all_country = pd.concat([pivoted_artist, pivoted_country], axis=1)\n",
    "pivoted_all_country"
   ]
  },
  {
   "cell_type": "markdown",
   "id": "727da162-110a-472a-ba19-950206af2b71",
   "metadata": {},
   "source": [
    "### Поиск характерных комбинаций"
   ]
  },
  {
   "cell_type": "code",
   "execution_count": null,
   "id": "f6642048-de66-4b4a-8c63-7e062344e215",
   "metadata": {},
   "outputs": [],
   "source": [
    "import mlxtend.frequent_patterns as ml"
   ]
  },
  {
   "cell_type": "code",
   "execution_count": null,
   "id": "b7db6656-4b3c-4514-9329-dded6bbde994",
   "metadata": {},
   "outputs": [],
   "source": [
    "#по пользователю, можно удалить\n",
    "freq_items_u = ml.apriori(binary_data_u, min_support = 0.04, use_colnames = True)\n",
    "print(\"Найдено {0} характерных комбинаций\".format(len(freq_items_u)))\n",
    "freq_items_u"
   ]
  },
  {
   "cell_type": "code",
   "execution_count": null,
   "id": "b0e89690-d15a-4b91-96d1-6e4f7f1a8cbb",
   "metadata": {},
   "outputs": [],
   "source": [
    "#по пользователю, можно удалить\n",
    "rules_u = ml.association_rules(freq_items_u, metric = \"confidence\", min_threshold = 0.4)\n",
    "rules_u.sort_values('confidence', ascending=False)"
   ]
  },
  {
   "cell_type": "code",
   "execution_count": null,
   "id": "c1a9c4a7-97bf-4a1a-bf81-350eb9c8d848",
   "metadata": {},
   "outputs": [],
   "source": [
    "apriori_sex_jp = ml.apriori(pivoted_all_japan, min_support=0.03, use_colnames=True)\n",
    "apriori_sex_jp"
   ]
  },
  {
   "cell_type": "code",
   "execution_count": null,
   "id": "2b241975-923d-45a1-9bf1-efc7fd43cdec",
   "metadata": {},
   "outputs": [],
   "source": [
    "apriori_sex_jp_rules = ml.association_rules(apriori_sex_jp, metric=\"confidence\", min_threshold=0.4)\n",
    "apriori_sex_jp_rules.sort_values('confidence', ascending=False)"
   ]
  },
  {
   "cell_type": "code",
   "execution_count": null,
   "id": "adb1ba08-c1bb-47b7-8dd3-2c149a3c5352",
   "metadata": {},
   "outputs": [],
   "source": [
    "apriori_sex_usa = ml.apriori(pivoted_all_usa, min_support=0.05, use_colnames=True)\n",
    "apriori_sex_usa"
   ]
  },
  {
   "cell_type": "code",
   "execution_count": null,
   "id": "d069ce09-dae3-4b82-bd2c-19a4470653a6",
   "metadata": {},
   "outputs": [],
   "source": [
    "apriori_sex_usa_rules = ml.association_rules(apriori_sex_usa, metric=\"confidence\", min_threshold=0.8)\n",
    "apriori_sex_usa_rules.sort_values('confidence', ascending=False)"
   ]
  }
 ],
 "metadata": {
  "kernelspec": {
   "display_name": "Python 3 (ipykernel)",
   "language": "python",
   "name": "python3"
  },
  "language_info": {
   "codemirror_mode": {
    "name": "ipython",
    "version": 3
   },
   "file_extension": ".py",
   "mimetype": "text/x-python",
   "name": "python",
   "nbconvert_exporter": "python",
   "pygments_lexer": "ipython3",
   "version": "3.9.7"
  }
 },
 "nbformat": 4,
 "nbformat_minor": 5
}
